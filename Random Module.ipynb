{
 "cells": [
  {
   "cell_type": "code",
   "execution_count": 6,
   "id": "a7a36158",
   "metadata": {},
   "outputs": [
    {
     "name": "stdout",
     "output_type": "stream",
     "text": [
      "3\n"
     ]
    }
   ],
   "source": [
    "import random #to generate random value\n",
    "random_num = random.randint(1,10) #randint 1 to 10 tak generate random numbers\n",
    "print(random_num)\n"
   ]
  },
  {
   "cell_type": "code",
   "execution_count": 13,
   "id": "ef1f7f6e",
   "metadata": {},
   "outputs": [
    {
     "name": "stdout",
     "output_type": "stream",
     "text": [
      "7.912979510425881\n"
     ]
    }
   ],
   "source": [
    "import random #to generate random value\n",
    "random_num = random.randint(1,10) #randint 1 to 10 tak generate random numbers\n",
    "guess_num = random.random() * 10\n",
    "print(guess_num)"
   ]
  },
  {
   "cell_type": "code",
   "execution_count": 2,
   "id": "b2e14660",
   "metadata": {},
   "outputs": [
    {
     "name": "stdout",
     "output_type": "stream",
     "text": [
      "rida\n"
     ]
    }
   ],
   "source": [
    "import random\n",
    "friend = ['Salman', 'uzma', 'bilal', 'rida']\n",
    "name =  random.choice(friend)\n",
    "print(name)"
   ]
  },
  {
   "cell_type": "code",
   "execution_count": 5,
   "id": "76668a25",
   "metadata": {},
   "outputs": [
    {
     "name": "stdout",
     "output_type": "stream",
     "text": [
      "['rida', 'Salman', 'bilal', 'uzma']\n"
     ]
    }
   ],
   "source": [
    "import random\n",
    "friend = ['Salman', 'uzma', 'bilal', 'rida']\n",
    "random.shuffle(friend)\n",
    "print(friend)"
   ]
  },
  {
   "cell_type": "code",
   "execution_count": null,
   "id": "d95863e5",
   "metadata": {},
   "outputs": [],
   "source": []
  }
 ],
 "metadata": {
  "kernelspec": {
   "display_name": "Python 3 (ipykernel)",
   "language": "python",
   "name": "python3"
  },
  "language_info": {
   "codemirror_mode": {
    "name": "ipython",
    "version": 3
   },
   "file_extension": ".py",
   "mimetype": "text/x-python",
   "name": "python",
   "nbconvert_exporter": "python",
   "pygments_lexer": "ipython3",
   "version": "3.9.12"
  }
 },
 "nbformat": 4,
 "nbformat_minor": 5
}
